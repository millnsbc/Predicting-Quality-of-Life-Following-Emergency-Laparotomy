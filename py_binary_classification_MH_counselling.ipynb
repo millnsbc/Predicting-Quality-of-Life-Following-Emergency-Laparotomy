{
 "cells": [
  {
   "cell_type": "markdown",
   "metadata": {},
   "source": [
    "### Imports"
   ]
  },
  {
   "cell_type": "code",
   "execution_count": 1,
   "metadata": {},
   "outputs": [],
   "source": [
    "import os\n",
    "import pandas as pd\n",
    "import numpy as np\n",
    "from imblearn.under_sampling import RandomUnderSampler\n",
    "import matplotlib.pyplot as plt\n",
    "from collections import Counter\n",
    "from matplotlib import pyplot\n",
    "from imblearn.over_sampling import SMOTE\n",
    "from collections import Counter\n",
    "from matplotlib import pyplot\n",
    "from numpy import mean\n",
    "from numpy import std\n",
    "from sklearn.neighbors import KNeighborsClassifier\n",
    "from sklearn.model_selection import cross_val_score\n",
    "from sklearn.model_selection import RepeatedStratifiedKFold\n",
    "from sklearn.preprocessing import StandardScaler\n",
    "from sklearn.decomposition import PCA\n",
    "from imblearn.pipeline import Pipeline\n",
    "from sklearn.linear_model import LogisticRegression\n",
    "from sklearn.model_selection import cross_val_score\n",
    "from sklearn.model_selection import train_test_split\n",
    "from pycm import *\n",
    "from sklearn.metrics import roc_curve\n",
    "from sklearn.svm import SVC\n",
    "from sklearn.metrics import roc_auc_score\n"
   ]
  },
  {
   "cell_type": "code",
   "execution_count": 2,
   "metadata": {},
   "outputs": [],
   "source": [
    "os.chdir(r'C:\\Users\\c2098580\\OneDrive - Cardiff University\\Desktop\\MAC\\MSc Data Science and Analytics/Dissertation/clean_data')\n",
    "# read data\n",
    "df = pd.read_csv('mh_counselling_df.csv')"
   ]
  },
  {
   "cell_type": "code",
   "execution_count": 3,
   "metadata": {},
   "outputs": [],
   "source": [
    "# drop Unnamed column\n",
    "df = df.drop('Unnamed: 0',axis=1)"
   ]
  },
  {
   "cell_type": "code",
   "execution_count": 4,
   "metadata": {},
   "outputs": [
    {
     "name": "stdout",
     "output_type": "stream",
     "text": [
      "Shape of X data: (808,)\n",
      "Shape of y data: (808, 94)\n"
     ]
    }
   ],
   "source": [
    "# create df for the features and the target variable \n",
    "target = df['mh_counselling']\n",
    "\n",
    "# selected features \n",
    "features = df.drop('mh_counselling',axis=1)\n",
    "\n",
    "print('Shape of X data:',target.shape)\n",
    "print('Shape of y data:',features.shape)"
   ]
  },
  {
   "cell_type": "markdown",
   "metadata": {},
   "source": [
    "# Oversampling"
   ]
  },
  {
   "cell_type": "code",
   "execution_count": 5,
   "metadata": {},
   "outputs": [
    {
     "name": "stdout",
     "output_type": "stream",
     "text": [
      "Class=0, n=753 (93.193%)\n",
      "Class=1, n=55 (6.807%)\n"
     ]
    },
    {
     "data": {
      "image/png": "[encoded data removed]",
      "text/plain": [
       "<Figure size 432x288 with 1 Axes>"
      ]
     },
     "metadata": {
      "needs_background": "light"
     },
     "output_type": "display_data"
    }
   ],
   "source": [
    "counter = Counter(target)\n",
    "for k,v in counter.items():\n",
    "    per = v / len(target) * 100\n",
    "    print('Class=%d, n=%d (%.3f%%)' % (k, v, per))\n",
    "# plot the distribution\n",
    "pyplot.bar(counter.keys(), counter.values())\n",
    "pyplot.show()"
   ]
  },
  {
   "cell_type": "code",
   "execution_count": 6,
   "metadata": {},
   "outputs": [
    {
     "name": "stdout",
     "output_type": "stream",
     "text": [
      "Class=0, n=753 (50.000%)\n",
      "Class=1, n=753 (50.000%)\n"
     ]
    },
    {
     "data": {
      "image/png": "[encoded data removed]",
      "text/plain": [
       "<Figure size 432x288 with 1 Axes>"
      ]
     },
     "metadata": {
      "needs_background": "light"
     },
     "output_type": "display_data"
    }
   ],
   "source": [
    "# transform the dataset\n",
    "# show what smote does\n",
    "oversample = SMOTE(k_neighbors=10)\n",
    "feature_example, target_example = oversample.fit_resample(features, target)\n",
    "# summarize distribution\n",
    "counter = Counter(target_example)\n",
    "for k,v in counter.items():\n",
    "    per = v / len(target_example) * 100\n",
    "    print('Class=%d, n=%d (%.3f%%)' % (k, v, per))\n",
    "# plot the distribution\n",
    "pyplot.bar(counter.keys(), counter.values())\n",
    "pyplot.show()"
   ]
  },
  {
   "cell_type": "markdown",
   "metadata": {},
   "source": [
    "# Model - KNN"
   ]
  },
  {
   "cell_type": "markdown",
   "metadata": {},
   "source": [
    "### Define X and y"
   ]
  },
  {
   "cell_type": "code",
   "execution_count": 7,
   "metadata": {},
   "outputs": [],
   "source": [
    "X = features\n",
    "\n",
    "y = target"
   ]
  },
  {
   "cell_type": "markdown",
   "metadata": {},
   "source": [
    "#### Model"
   ]
  },
  {
   "cell_type": "code",
   "execution_count": 8,
   "metadata": {},
   "outputs": [],
   "source": [
    "def get_models():\n",
    "    models = dict()\n",
    "    for n_neighbors in range(1, 31): \n",
    "        for weights in ['uniform','distance']:\n",
    "            # create name for model\n",
    "            key = 'n_neighbors',n_neighbors,'weights',weights\n",
    "            # models\n",
    "            models[key] = KNeighborsClassifier(n_neighbors=n_neighbors,weights=weights)\n",
    "    return models\n",
    "\n",
    "# evaluate a given model using cross-validation\n",
    "def evaluate_model(model, X, y):\n",
    "    # define the evaluation procedure\n",
    "    cv = RepeatedStratifiedKFold(n_splits=5, n_repeats=3, random_state=1)\n",
    "    # define pca\n",
    "    pca = PCA()\n",
    "    # create pipeline to scale data and apply pca\n",
    "    model = Pipeline(steps=[('over', SMOTE()),('under',RandomUnderSampler()),(\"scaling\", StandardScaler()),\n",
    "                                               ('pca', pca),(\"model\", model)])\n",
    "    # evaluate the model\n",
    "    scores = cross_val_score(model, X, y, scoring='roc_auc', cv=cv, n_jobs=-1)\n",
    "    return scores\n",
    " \n",
    "# get the models to evaluate\n",
    "models = get_models()\n",
    "# evaluate the models and store results\n",
    "results, names, sd = list(), list(),list()\n",
    "for name, model in models.items():\n",
    "    # evaluate the model and collect the scores\n",
    "    scores = evaluate_model(model, X, y)\n",
    "    # store the results\n",
    "    results.append(mean(scores))\n",
    "    sd.append(std(scores))\n",
    "    names.append(name)"
   ]
  },
  {
   "cell_type": "code",
   "execution_count": 9,
   "metadata": {},
   "outputs": [
    {
     "name": "stdout",
     "output_type": "stream",
     "text": [
      "model_name    ('n_neighbors', 28, 'weights', 'distance')\n",
      "roc_auc                                         0.610945\n",
      "std                                            0.0928566\n",
      "Name: 55, dtype: object\n"
     ]
    }
   ],
   "source": [
    "model_name = pd.DataFrame([str(x) for x in names], columns=['model_name'])\n",
    "roc_auc = pd.DataFrame(results,columns=['roc_auc'])\n",
    "sd = pd.DataFrame(sd,columns=['std'])\n",
    "#store results\n",
    "results = pd.concat([model_name, roc_auc,sd], axis=1, join=\"inner\")\n",
    "# find best roc_auc\n",
    "print(results.sort_values('roc_auc',ascending=False).iloc[0,:])"
   ]
  },
  {
   "cell_type": "markdown",
   "metadata": {},
   "source": [
    "# Model - Logistic regression"
   ]
  },
  {
   "cell_type": "markdown",
   "metadata": {},
   "source": [
    "### Define X and y"
   ]
  },
  {
   "cell_type": "code",
   "execution_count": 10,
   "metadata": {},
   "outputs": [],
   "source": [
    "X = features\n",
    "\n",
    "y = target"
   ]
  },
  {
   "cell_type": "markdown",
   "metadata": {},
   "source": [
    "#### Model"
   ]
  },
  {
   "cell_type": "code",
   "execution_count": 11,
   "metadata": {},
   "outputs": [],
   "source": [
    "def get_models():\n",
    "    models = dict()\n",
    "    for c_space in np.logspace(-5, 8, 15): \n",
    "        for solver in ['newton-cg', 'lbfgs', 'liblinear', 'sag', 'saga']:\n",
    "            # create name for model\n",
    "            key = 'c_space',c_space,'solver',solver\n",
    "            # models\n",
    "            models[key] = LogisticRegression(C=c_space,solver=solver,class_weight='balanced')\n",
    "    return models\n",
    "\n",
    "# evaluate a given model using cross-validation\n",
    "def evaluate_model(model, X, y):\n",
    "    # define the evaluation procedure\n",
    "    cv = RepeatedStratifiedKFold(n_splits=5, n_repeats=3, random_state=1)\n",
    "    # define pca\n",
    "    pca = PCA()\n",
    "    # create pipeline to scale data and apply pca\n",
    "    model = Pipeline(steps=[('over', SMOTE()),('under',RandomUnderSampler()),(\"scaling\", StandardScaler()),\n",
    "                                               ('pca', pca),(\"model\", model)])\n",
    "    # evaluate the model\n",
    "    scores = cross_val_score(model, X, y, scoring='roc_auc', cv=cv, n_jobs=-1)\n",
    "    return scores\n",
    " \n",
    "# get the models to evaluate\n",
    "models = get_models()\n",
    "# evaluate the models and store results\n",
    "results, names, sd = list(), list(),list()\n",
    "for name, model in models.items():\n",
    "    # evaluate the model and collect the scores\n",
    "    scores = evaluate_model(model, X, y)\n",
    "    # store the results\n",
    "    results.append(mean(scores))\n",
    "    sd.append(std(scores))\n",
    "    names.append(name)"
   ]
  },
  {
   "cell_type": "code",
   "execution_count": 12,
   "metadata": {},
   "outputs": [
    {
     "name": "stdout",
     "output_type": "stream",
     "text": [
      "model_name    ('c_space', 8.483428982440725e-05, 'solver', '...\n",
      "roc_auc                                                0.677099\n",
      "std                                                    0.112516\n",
      "Name: 6, dtype: object\n"
     ]
    }
   ],
   "source": [
    "model_name = pd.DataFrame([str(x) for x in names], columns=['model_name'])\n",
    "roc_auc = pd.DataFrame(results,columns=['roc_auc'])\n",
    "sd = pd.DataFrame(sd,columns=['std'])\n",
    "#store results\n",
    "results = pd.concat([model_name, roc_auc,sd], axis=1, join=\"inner\")\n",
    "# find best roc_auc\n",
    "print(results.sort_values('roc_auc',ascending=False).iloc[0,:])"
   ]
  },
  {
   "cell_type": "code",
   "execution_count": 13,
   "metadata": {},
   "outputs": [
    {
     "name": "stdout",
     "output_type": "stream",
     "text": [
      "('c_space', 8.483428982440725e-05, 'solver', 'lbfgs')\n"
     ]
    }
   ],
   "source": [
    "print(results.sort_values('roc_auc',ascending=False).iloc[0,0])"
   ]
  },
  {
   "cell_type": "code",
   "execution_count": 14,
   "metadata": {},
   "outputs": [],
   "source": [
    "# define the logistic regression model\n",
    "model = LogisticRegression(C=1e-05,solver='sag')\n",
    "# define pca\n",
    "pca = PCA()\n",
    "# create pipeline to scale data and apply pca\n",
    "model = Pipeline(steps=[('over', SMOTE()),('under',RandomUnderSampler()),(\"scaling\", StandardScaler()),\n",
    "                        ('pca', pca),(\"model\", model)])\n",
    "# split the data into test and training data\n",
    "X_train, X_test, y_train, y_test = train_test_split(X, y, test_size=0.3, random_state=47,stratify=y)"
   ]
  },
  {
   "cell_type": "markdown",
   "metadata": {},
   "source": [
    "#### Train AUC"
   ]
  },
  {
   "cell_type": "code",
   "execution_count": 15,
   "metadata": {},
   "outputs": [
    {
     "data": {
      "text/plain": [
       "0.6150754019774293"
      ]
     },
     "execution_count": 15,
     "metadata": {},
     "output_type": "execute_result"
    }
   ],
   "source": [
    "# fit the model on the training dataset\n",
    "model.fit(X_train, y_train)\n",
    "# make a prediction\n",
    "y_pred = model.predict(X_train)\n",
    "\n",
    "roc_auc_score(y_train, y_pred)"
   ]
  },
  {
   "cell_type": "markdown",
   "metadata": {},
   "source": [
    "#### Test AUC"
   ]
  },
  {
   "cell_type": "code",
   "execution_count": 16,
   "metadata": {},
   "outputs": [
    {
     "data": {
      "text/plain": [
       "0.6799843831337845"
      ]
     },
     "execution_count": 16,
     "metadata": {},
     "output_type": "execute_result"
    }
   ],
   "source": [
    "# fit the model on the training dataset\n",
    "model.fit(X_train, y_train)\n",
    "# make a prediction\n",
    "y_pred = model.predict(X_test)\n",
    "\n",
    "roc_auc_score(y_test, y_pred)"
   ]
  },
  {
   "cell_type": "code",
   "execution_count": 17,
   "metadata": {},
   "outputs": [
    {
     "ename": "pycmVectorError",
     "evalue": "The type of input vectors is assumed to be a list or a NumPy array",
     "output_type": "error",
     "traceback": [
      "\u001b[1;31m---------------------------------------------------------------------------\u001b[0m",
      "\u001b[1;31mpycmVectorError\u001b[0m                           Traceback (most recent call last)",
      "\u001b[1;32m<ipython-input-17-f893100886be>\u001b[0m in \u001b[0;36m<module>\u001b[1;34m\u001b[0m\n\u001b[1;32m----> 1\u001b[1;33m \u001b[0mcm\u001b[0m \u001b[1;33m=\u001b[0m \u001b[0mConfusionMatrix\u001b[0m\u001b[1;33m(\u001b[0m\u001b[0mactual_vector\u001b[0m\u001b[1;33m=\u001b[0m\u001b[0my_test\u001b[0m\u001b[1;33m,\u001b[0m \u001b[0mpredict_vector\u001b[0m\u001b[1;33m=\u001b[0m\u001b[0my_pred\u001b[0m\u001b[1;33m)\u001b[0m\u001b[1;33m\u001b[0m\u001b[1;33m\u001b[0m\u001b[0m\n\u001b[0m",
      "\u001b[1;32m~\\Anaconda3\\lib\\site-packages\\pycm\\pycm_obj.py\u001b[0m in \u001b[0;36m__init__\u001b[1;34m(self, actual_vector, predict_vector, matrix, digit, threshold, file, sample_weight, transpose, classes)\u001b[0m\n\u001b[0;32m     77\u001b[0m             \u001b[0mmatrix_param\u001b[0m \u001b[1;33m=\u001b[0m \u001b[0m__obj_matrix_handler__\u001b[0m\u001b[1;33m(\u001b[0m\u001b[0mmatrix\u001b[0m\u001b[1;33m,\u001b[0m \u001b[0mtranspose\u001b[0m\u001b[1;33m)\u001b[0m\u001b[1;33m\u001b[0m\u001b[1;33m\u001b[0m\u001b[0m\n\u001b[0;32m     78\u001b[0m         \u001b[1;32melse\u001b[0m\u001b[1;33m:\u001b[0m\u001b[1;33m\u001b[0m\u001b[1;33m\u001b[0m\u001b[0m\n\u001b[1;32m---> 79\u001b[1;33m             matrix_param = __obj_vector_handler__(\n\u001b[0m\u001b[0;32m     80\u001b[0m                 self, actual_vector, predict_vector, threshold, sample_weight, classes)\n\u001b[0;32m     81\u001b[0m         \u001b[1;32mif\u001b[0m \u001b[0mlen\u001b[0m\u001b[1;33m(\u001b[0m\u001b[0mmatrix_param\u001b[0m\u001b[1;33m[\u001b[0m\u001b[1;36m0\u001b[0m\u001b[1;33m]\u001b[0m\u001b[1;33m)\u001b[0m \u001b[1;33m<\u001b[0m \u001b[1;36m2\u001b[0m\u001b[1;33m:\u001b[0m\u001b[1;33m\u001b[0m\u001b[1;33m\u001b[0m\u001b[0m\n",
      "\u001b[1;32m~\\Anaconda3\\lib\\site-packages\\pycm\\pycm_handler.py\u001b[0m in \u001b[0;36m__obj_vector_handler__\u001b[1;34m(cm, actual_vector, predict_vector, threshold, sample_weight, classes)\u001b[0m\n\u001b[0;32m    291\u001b[0m     \u001b[1;32mif\u001b[0m \u001b[1;32mnot\u001b[0m \u001b[0misinstance\u001b[0m\u001b[1;33m(\u001b[0m\u001b[0mactual_vector\u001b[0m\u001b[1;33m,\u001b[0m \u001b[1;33m(\u001b[0m\u001b[0mlist\u001b[0m\u001b[1;33m,\u001b[0m \u001b[0mnumpy\u001b[0m\u001b[1;33m.\u001b[0m\u001b[0mndarray\u001b[0m\u001b[1;33m)\u001b[0m\u001b[1;33m)\u001b[0m \u001b[1;32mor\u001b[0m \u001b[1;32mnot\u001b[0m\u001b[0;31m \u001b[0m\u001b[0;31m\\\u001b[0m\u001b[1;33m\u001b[0m\u001b[1;33m\u001b[0m\u001b[0m\n\u001b[0;32m    292\u001b[0m             \u001b[0misinstance\u001b[0m\u001b[1;33m(\u001b[0m\u001b[0mpredict_vector\u001b[0m\u001b[1;33m,\u001b[0m \u001b[1;33m(\u001b[0m\u001b[0mlist\u001b[0m\u001b[1;33m,\u001b[0m \u001b[0mnumpy\u001b[0m\u001b[1;33m.\u001b[0m\u001b[0mndarray\u001b[0m\u001b[1;33m)\u001b[0m\u001b[1;33m)\u001b[0m\u001b[1;33m:\u001b[0m\u001b[1;33m\u001b[0m\u001b[1;33m\u001b[0m\u001b[0m\n\u001b[1;32m--> 293\u001b[1;33m         \u001b[1;32mraise\u001b[0m \u001b[0mpycmVectorError\u001b[0m\u001b[1;33m(\u001b[0m\u001b[0mVECTOR_TYPE_ERROR\u001b[0m\u001b[1;33m)\u001b[0m\u001b[1;33m\u001b[0m\u001b[1;33m\u001b[0m\u001b[0m\n\u001b[0m\u001b[0;32m    294\u001b[0m     \u001b[1;32mif\u001b[0m \u001b[0mlen\u001b[0m\u001b[1;33m(\u001b[0m\u001b[0mactual_vector\u001b[0m\u001b[1;33m)\u001b[0m \u001b[1;33m!=\u001b[0m \u001b[0mlen\u001b[0m\u001b[1;33m(\u001b[0m\u001b[0mpredict_vector\u001b[0m\u001b[1;33m)\u001b[0m\u001b[1;33m:\u001b[0m\u001b[1;33m\u001b[0m\u001b[1;33m\u001b[0m\u001b[0m\n\u001b[0;32m    295\u001b[0m         \u001b[1;32mraise\u001b[0m \u001b[0mpycmVectorError\u001b[0m\u001b[1;33m(\u001b[0m\u001b[0mVECTOR_SIZE_ERROR\u001b[0m\u001b[1;33m)\u001b[0m\u001b[1;33m\u001b[0m\u001b[1;33m\u001b[0m\u001b[0m\n",
      "\u001b[1;31mpycmVectorError\u001b[0m: The type of input vectors is assumed to be a list or a NumPy array"
     ]
    }
   ],
   "source": [
    "cm = ConfusionMatrix(actual_vector=y_test, predict_vector=y_pred)"
   ]
  },
  {
   "cell_type": "code",
   "execution_count": null,
   "metadata": {
    "scrolled": false
   },
   "outputs": [],
   "source": [
    "print(cm)"
   ]
  },
  {
   "cell_type": "code",
   "execution_count": null,
   "metadata": {},
   "outputs": [],
   "source": [
    "y_pred_prob = model.predict_proba(X_test)[:,1]\n",
    "\n",
    "# Generate ROC curve values: fpr, tpr, thresholds\n",
    "fpr, tpr, thresholds = roc_curve(y_test, y_pred_prob)\n",
    "\n",
    "# Plot ROC curve\n",
    "plt.plot([0, 1], [0, 1], 'k--')\n",
    "plt.plot(fpr, tpr)\n",
    "plt.xlabel('False Positive Rate')\n",
    "plt.ylabel('True Positive Rate (Recall)')\n",
    "plt.title('ROC Curve')\n",
    "plt.show()"
   ]
  },
  {
   "cell_type": "code",
   "execution_count": null,
   "metadata": {},
   "outputs": [],
   "source": [
    "model.named_steps['model'].coef_ "
   ]
  },
  {
   "cell_type": "markdown",
   "metadata": {},
   "source": [
    "# Model - SVM"
   ]
  },
  {
   "cell_type": "markdown",
   "metadata": {},
   "source": [
    "### Define X and y"
   ]
  },
  {
   "cell_type": "code",
   "execution_count": 18,
   "metadata": {},
   "outputs": [],
   "source": [
    "X = features\n",
    "\n",
    "y = target"
   ]
  },
  {
   "cell_type": "markdown",
   "metadata": {},
   "source": [
    "#### Model"
   ]
  },
  {
   "cell_type": "code",
   "execution_count": 19,
   "metadata": {},
   "outputs": [],
   "source": [
    "def get_models():\n",
    "    models = dict()\n",
    "    for c_space in [0.1,1,10,100,1000]: \n",
    "        for gamma in [0.001, 0.01, 0.1, 1]:\n",
    "            # create name for model\n",
    "            key = 'c_space',c_space,'gamma',gamma\n",
    "            # models\n",
    "            models[key] = SVC(C=c_space,gamma=gamma)\n",
    "    return models\n",
    "\n",
    "# evaluate a given model using cross-validation\n",
    "def evaluate_model(model, X, y):\n",
    "    # define the evaluation procedure\n",
    "    cv = RepeatedStratifiedKFold(n_splits=5, n_repeats=3, random_state=1)\n",
    "    # define pca\n",
    "    pca = PCA()\n",
    "    # create pipeline to scale data and apply pca\n",
    "    model = Pipeline(steps=[('over', SMOTE()),('under',RandomUnderSampler()),(\"scaling\", StandardScaler()),\n",
    "                                               ('pca', pca),(\"model\", model)])\n",
    "    # evaluate the model\n",
    "    scores = cross_val_score(model, X, y, scoring='roc_auc', cv=cv, n_jobs=-1)\n",
    "    return scores\n",
    " \n",
    "# get the models to evaluate\n",
    "models = get_models()\n",
    "# evaluate the models and store results\n",
    "results, names, sd = list(), list(),list()\n",
    "for name, model in models.items():\n",
    "    # evaluate the model and collect the scores\n",
    "    scores = evaluate_model(model, X, y)\n",
    "    # store the results\n",
    "    results.append(mean(scores))\n",
    "    sd.append(std(scores))\n",
    "    names.append(name)"
   ]
  },
  {
   "cell_type": "code",
   "execution_count": 20,
   "metadata": {},
   "outputs": [
    {
     "name": "stdout",
     "output_type": "stream",
     "text": [
      "model_name    ('c_space', 0.1, 'gamma', 0.001)\n",
      "roc_auc                               0.654641\n",
      "std                                   0.117591\n",
      "Name: 0, dtype: object\n"
     ]
    }
   ],
   "source": [
    "model_name = pd.DataFrame([str(x) for x in names], columns=['model_name'])\n",
    "roc_auc = pd.DataFrame(results,columns=['roc_auc'])\n",
    "sd = pd.DataFrame(sd,columns=['std'])\n",
    "#store results\n",
    "results = pd.concat([model_name, roc_auc,sd], axis=1, join=\"inner\")\n",
    "# find best roc_auc\n",
    "print(results.sort_values('roc_auc',ascending=False).iloc[0,:])"
   ]
  }
 ],
 "metadata": {
  "kernelspec": {
   "display_name": "Python 3",
   "language": "python",
   "name": "python3"
  },
  "language_info": {
   "codemirror_mode": {
    "name": "ipython",
    "version": 3
   },
   "file_extension": ".py",
   "mimetype": "text/x-python",
   "name": "python",
   "nbconvert_exporter": "python",
   "pygments_lexer": "ipython3",
   "version": "3.8.3"
  }
 },
 "nbformat": 4,
 "nbformat_minor": 4
}
