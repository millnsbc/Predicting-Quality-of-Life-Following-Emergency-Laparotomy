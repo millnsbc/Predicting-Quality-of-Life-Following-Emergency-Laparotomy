{
 "cells": [
  {
   "cell_type": "code",
   "execution_count": 1,
   "metadata": {},
   "outputs": [],
   "source": [
    "import os\n",
    "import pandas as pd\n",
    "import numpy as np\n",
    "from imblearn.over_sampling import SMOTE\n",
    "from collections import Counter\n",
    "from matplotlib import pyplot as plt\n",
    "from numpy import mean\n",
    "from numpy import std\n",
    "from sklearn.model_selection import cross_val_score\n",
    "from sklearn.model_selection import RepeatedStratifiedKFold\n",
    "from sklearn.linear_model import LogisticRegression\n",
    "from sklearn.preprocessing import StandardScaler\n",
    "from sklearn.decomposition import PCA\n",
    "from imblearn.pipeline import Pipeline\n",
    "from imblearn.over_sampling import SMOTE\n",
    "from imblearn.under_sampling import RandomUnderSampler\n",
    "from pycm import *\n",
    "from keras.models import Sequential\n",
    "from keras.layers import Dense\n",
    "from keras.wrappers.scikit_learn import KerasClassifier\n",
    "from keras.utils import np_utils\n",
    "from sklearn.model_selection import train_test_split\n",
    "from sklearn.metrics import balanced_accuracy_score\n"
   ]
  },
  {
   "cell_type": "code",
   "execution_count": 2,
   "metadata": {},
   "outputs": [],
   "source": [
    "os.chdir(r'C:\\Users\\c2098580\\OneDrive - Cardiff University\\Documents\\MSc Data Science and Analytics/Dissertation/clean_data')\n",
    "# read data\n",
    "mobility_df = pd.read_csv('mobility_df.csv')\n",
    "selfcare_df = pd.read_csv('selfcare_df.csv')\n",
    "usualactivities_df = pd.read_csv('usualactivities_df.csv')\n",
    "paindiscomfort_df = pd.read_csv('paindiscomfort_df.csv')\n",
    "anxietydepression_df = pd.read_csv('anxietydepression_df.csv')\n",
    "vas_df = pd.read_csv('vas_df.csv')"
   ]
  },
  {
   "cell_type": "markdown",
   "metadata": {},
   "source": [
    "# Data preprocessing"
   ]
  },
  {
   "cell_type": "code",
   "execution_count": 3,
   "metadata": {},
   "outputs": [
    {
     "name": "stdout",
     "output_type": "stream",
     "text": [
      "256    1\n",
      "255    1\n",
      "94     1\n",
      "93     1\n",
      "92     1\n",
      "      ..\n",
      "166    1\n",
      "165    1\n",
      "164    1\n",
      "163    1\n",
      "1      1\n",
      "Name: Unnamed: 0, Length: 256, dtype: int64\n",
      "1    217\n",
      "4     37\n",
      "8      2\n",
      "Name: Number.of.Procedures, dtype: int64\n",
      "1.5     9\n",
      "2.7     9\n",
      "1.3     8\n",
      "3.3     8\n",
      "4.1     7\n",
      "       ..\n",
      "34.6    1\n",
      "9.4     1\n",
      "18.9    1\n",
      "84.4    1\n",
      "12.5    1\n",
      "Name: Pre.op.PPOSSUM.mortality, Length: 141, dtype: int64\n",
      "0       9\n",
      "350     4\n",
      "1361    4\n",
      "1735    4\n",
      "1486    3\n",
      "       ..\n",
      "1430    1\n",
      "919     1\n",
      "150     1\n",
      "1703    1\n",
      "1164    1\n",
      "Name: WIMD.2019.Rank, Length: 178, dtype: int64\n",
      "97     11\n",
      "89     10\n",
      "106     9\n",
      "120     9\n",
      "118     8\n",
      "       ..\n",
      "128     1\n",
      "125     1\n",
      "124     1\n",
      "160     1\n",
      "166     1\n",
      "Name: Hb.closest.to.discharge.death, Length: 70, dtype: int64\n",
      "2    113\n",
      "3     89\n",
      "4     28\n",
      "1     25\n",
      "5      1\n",
      "Name: ASA.score, dtype: int64\n",
      "2    119\n",
      "3     53\n",
      "4     47\n",
      "1     37\n",
      "Name: Pre.Op.risk.category.1, dtype: int64\n",
      "1    113\n",
      "3     58\n",
      "2     47\n",
      "4     34\n",
      "5      4\n",
      "Name: Mobility, dtype: int64\n",
      "0    220\n",
      "1     36\n",
      "Name: Chronic.Pain.issues_1, dtype: int64\n",
      "0    150\n",
      "1    106\n",
      "Name: Gender_M, dtype: int64\n",
      "1    177\n",
      "0     79\n",
      "Name: Perforation_2, dtype: int64\n",
      "1    245\n",
      "0     11\n",
      "Name: Anastomotic.Leak_2, dtype: int64\n",
      "0    225\n",
      "1     31\n",
      "Name: Malignancy.status_2, dtype: int64\n",
      "0    249\n",
      "1      7\n",
      "Name: Malignancy.status_4, dtype: int64\n",
      "0    244\n",
      "1     12\n",
      "Name: Malignancy.status_8, dtype: int64\n",
      "0    137\n",
      "1    119\n",
      "Name: Pre.Op.risk.category_2, dtype: int64\n",
      "0    203\n",
      "1     53\n",
      "Name: Pre.Op.risk.category_3, dtype: int64\n",
      "0    209\n",
      "1     47\n",
      "Name: Pre.Op.risk.category_4, dtype: int64\n",
      "0    253\n",
      "1      3\n",
      "Name: Surgeon.grade_2, dtype: int64\n",
      "0    255\n",
      "1      1\n",
      "Name: Surgeon.grade_3, dtype: int64\n",
      "0    254\n",
      "1      2\n",
      "Name: Surgeon.grade_4, dtype: int64\n",
      "0    219\n",
      "1     37\n",
      "Name: Surgeon.grade_5, dtype: int64\n",
      "0    255\n",
      "1      1\n",
      "Name: Main.procedure_2, dtype: int64\n",
      "0    254\n",
      "1      2\n",
      "Name: Main.procedure_20, dtype: int64\n",
      "0    189\n",
      "1     67\n",
      "Name: Main.procedure_22, dtype: int64\n",
      "0    244\n",
      "1     12\n",
      "Name: Main.procedure_23, dtype: int64\n",
      "0    251\n",
      "1      5\n",
      "Name: Main.procedure_23a, dtype: int64\n",
      "0    255\n",
      "1      1\n",
      "Name: Main.procedure_24, dtype: int64\n",
      "0    255\n",
      "1      1\n",
      "Name: Main.procedure_25, dtype: int64\n",
      "0    254\n",
      "1      2\n",
      "Name: Main.procedure_28, dtype: int64\n",
      "0    254\n",
      "1      2\n",
      "Name: Main.procedure_28a, dtype: int64\n",
      "0    254\n",
      "1      2\n",
      "Name: Main.procedure_3, dtype: int64\n",
      "0    245\n",
      "1     11\n",
      "Name: Main.procedure_30, dtype: int64\n",
      "0    254\n",
      "1      2\n",
      "Name: Main.procedure_32, dtype: int64\n",
      "0    253\n",
      "1      3\n",
      "Name: Main.procedure_33, dtype: int64\n",
      "0    254\n",
      "1      2\n",
      "Name: Main.procedure_37, dtype: int64\n",
      "0    253\n",
      "1      3\n",
      "Name: Main.procedure_38, dtype: int64\n",
      "0    235\n",
      "1     21\n",
      "Name: Main.procedure_4, dtype: int64\n",
      "0    255\n",
      "1      1\n",
      "Name: Main.procedure_4a, dtype: int64\n",
      "0    255\n",
      "1      1\n",
      "Name: Main.procedure_4c, dtype: int64\n",
      "0    252\n",
      "1      4\n",
      "Name: Main.procedure_5, dtype: int64\n",
      "0    218\n",
      "1     38\n",
      "Name: Main.procedure_6, dtype: int64\n",
      "0    244\n",
      "1     12\n",
      "Name: Main.procedure_7, dtype: int64\n",
      "0    209\n",
      "1     47\n",
      "Name: Main.procedure_8, dtype: int64\n",
      "0    255\n",
      "1      1\n",
      "Name: Main.procedure_88, dtype: int64\n",
      "0    250\n",
      "1      6\n",
      "Name: Main.procedure_9, dtype: int64\n",
      "0    255\n",
      "1      1\n",
      "Name: Procedure.2_20, dtype: int64\n",
      "0    254\n",
      "1      2\n",
      "Name: Procedure.2_20a, dtype: int64\n",
      "0    252\n",
      "1      4\n",
      "Name: Procedure.2_21, dtype: int64\n",
      "0    249\n",
      "1      7\n",
      "Name: Procedure.2_22, dtype: int64\n",
      "0    251\n",
      "1      5\n",
      "Name: Procedure.2_23, dtype: int64\n",
      "0    254\n",
      "1      2\n",
      "Name: Procedure.2_27, dtype: int64\n",
      "0    254\n",
      "1      2\n",
      "Name: Procedure.2_28, dtype: int64\n",
      "0    253\n",
      "1      3\n",
      "Name: Procedure.2_28b, dtype: int64\n",
      "0    230\n",
      "1     26\n",
      "Name: Procedure.2_30, dtype: int64\n",
      "0    253\n",
      "1      3\n",
      "Name: Procedure.2_31, dtype: int64\n",
      "0    254\n",
      "1      2\n",
      "Name: Procedure.2_32, dtype: int64\n",
      "0    255\n",
      "1      1\n",
      "Name: Procedure.2_33, dtype: int64\n",
      "0    253\n",
      "1      3\n",
      "Name: Procedure.2_34, dtype: int64\n",
      "0    252\n",
      "1      4\n",
      "Name: Procedure.2_4, dtype: int64\n",
      "0    255\n",
      "1      1\n",
      "Name: Procedure.2_4a, dtype: int64\n",
      "0    255\n",
      "1      1\n",
      "Name: Procedure.2_5, dtype: int64\n",
      "0    255\n",
      "1      1\n",
      "Name: Procedure.2_6, dtype: int64\n",
      "0    254\n",
      "1      2\n",
      "Name: Procedure.2_8, dtype: int64\n",
      "0    227\n",
      "1     29\n",
      "Name: Approach_2, dtype: int64\n",
      "0    228\n",
      "1     28\n",
      "Name: Approach_3, dtype: int64\n",
      "0    250\n",
      "1      6\n",
      "Name: Approach_4, dtype: int64\n",
      "1    246\n",
      "0     10\n",
      "Name: Anastomotic.Leak..F._2, dtype: int64\n",
      "1    246\n",
      "0     10\n",
      "Name: Crohns.Disease..F._2, dtype: int64\n",
      "1    245\n",
      "0     11\n",
      "Name: Free.Gas.._2, dtype: int64\n",
      "1    196\n",
      "0     60\n",
      "Name: Pus.._2, dtype: int64\n",
      "0    242\n",
      "1     14\n",
      "Name: Post.op.destination_2, dtype: int64\n",
      "0    251\n",
      "1      5\n",
      "Name: Post.op.destination_3, dtype: int64\n",
      "0    252\n",
      "1      4\n",
      "Name: Post.op.destination_5, dtype: int64\n",
      "0    197\n",
      "1     59\n",
      "Name: Post.op.destination_6, dtype: int64\n",
      "0    239\n",
      "1     17\n",
      "Name: RTT_1, dtype: int64\n",
      "0    253\n",
      "1      3\n",
      "Name: RTT_2, dtype: int64\n",
      "0    255\n",
      "1      1\n",
      "Name: RTT_3, dtype: int64\n",
      "0    164\n",
      "1     92\n",
      "Name: PMH_of_mental_health_binary_1, dtype: int64\n"
     ]
    }
   ],
   "source": [
    "for i in mobility_df.columns:\n",
    "    print(mobility_df[i].value_counts())\n"
   ]
  },
  {
   "cell_type": "code",
   "execution_count": 4,
   "metadata": {},
   "outputs": [],
   "source": [
    "# drop Unnamed column\n",
    "mobility_df = mobility_df.drop('Unnamed: 0',axis=1)\n",
    "selfcare_df = selfcare_df.drop('Unnamed: 0',axis=1)\n",
    "usualactivities_df = usualactivities_df.drop('Unnamed: 0',axis=1)\n",
    "paindiscomfort_df = paindiscomfort_df.drop('Unnamed: 0',axis=1)\n",
    "anxietydepression_df = anxietydepression_df.drop('Unnamed: 0',axis=1)"
   ]
  },
  {
   "cell_type": "code",
   "execution_count": 5,
   "metadata": {},
   "outputs": [
    {
     "data": {
      "text/plain": [
       "Series([], dtype: float64)"
      ]
     },
     "execution_count": 5,
     "metadata": {},
     "output_type": "execute_result"
    }
   ],
   "source": [
    "five_mob = mobility_df.loc[mobility_df['Mobility']==5,:]\n",
    "\n",
    "five_mob.isnull().mean()[five_mob.isnull().mean()>0]"
   ]
  },
  {
   "cell_type": "code",
   "execution_count": 6,
   "metadata": {},
   "outputs": [],
   "source": [
    "#remove NANs\n",
    "mobility_df = mobility_df.dropna(axis=0)"
   ]
  },
  {
   "cell_type": "code",
   "execution_count": 7,
   "metadata": {},
   "outputs": [
    {
     "name": "stdout",
     "output_type": "stream",
     "text": [
      "Shape of X data: (256, 77)\n",
      "Shape of y data: (256,)\n"
     ]
    }
   ],
   "source": [
    "# create arrays for the features and the target variable \n",
    "target = mobility_df['Mobility']\n",
    "\n",
    "# selected features \n",
    "features = mobility_df.drop('Mobility',axis=1)\n",
    "\n",
    "print('Shape of X data:',features.shape)\n",
    "print('Shape of y data:',target.shape)"
   ]
  },
  {
   "cell_type": "markdown",
   "metadata": {},
   "source": [
    "#  Oversampling (SMOTE)\n",
    "\n",
    "https://machinelearningmastery.com/multi-class-imbalanced-classification/\n",
    "\n",
    "https://www.ncbi.nlm.nih.gov/pmc/articles/PMC5508166/"
   ]
  },
  {
   "cell_type": "code",
   "execution_count": 8,
   "metadata": {},
   "outputs": [
    {
     "name": "stdout",
     "output_type": "stream",
     "text": [
      "Class=3, n=58 (22.656%)\n",
      "Class=1, n=113 (44.141%)\n",
      "Class=4, n=34 (13.281%)\n",
      "Class=2, n=47 (18.359%)\n",
      "Class=5, n=4 (1.562%)\n"
     ]
    },
    {
     "data": {
      "image/png": "[encoded data removed]",
      "text/plain": [
       "<Figure size 432x288 with 1 Axes>"
      ]
     },
     "metadata": {
      "needs_background": "light"
     },
     "output_type": "display_data"
    }
   ],
   "source": [
    "\n",
    "counter = Counter(target)\n",
    "for k,v in counter.items():\n",
    "    per = v / len(target) * 100\n",
    "    print('Class=%d, n=%d (%.3f%%)' % (k, v, per))\n",
    "\n",
    "# figure related code\n",
    "fig = plt.figure()\n",
    "fig.suptitle('Balanced accuracy for considered C values', fontsize=14, fontweight='bold')\n",
    "\n",
    "ax = fig.add_subplot(111)\n",
    "ax.boxplot(results, labels=names, showmeans=True)\n",
    "\n",
    "ax.set_xlabel('Considered \"C\" values')\n",
    "ax.set_ylabel('Balanced Accuracy')\n",
    "\n",
    "plt.show()\n",
    "# plot the distribution\n",
    "plt\n"
   ]
  },
  {
   "cell_type": "markdown",
   "metadata": {},
   "source": [
    "### SMOTE"
   ]
  },
  {
   "cell_type": "code",
   "execution_count": 9,
   "metadata": {},
   "outputs": [
    {
     "name": "stdout",
     "output_type": "stream",
     "text": [
      "Class=3, n=113 (20.000%)\n",
      "Class=1, n=113 (20.000%)\n",
      "Class=4, n=113 (20.000%)\n",
      "Class=2, n=113 (20.000%)\n",
      "Class=5, n=113 (20.000%)\n"
     ]
    },
    {
     "data": {
      "image/png": "[encoded data removed]",
      "text/plain": [
       "<Figure size 432x288 with 1 Axes>"
      ]
     },
     "metadata": {
      "needs_background": "light"
     },
     "output_type": "display_data"
    }
   ],
   "source": [
    "# transform the dataset\n",
    "oversample = SMOTE(k_neighbors=3)\n",
    "features_example, target_example = oversample.fit_resample(features, target)\n",
    "# summarize distribution\n",
    "counter = Counter(target_example)\n",
    "for k,v in counter.items():\n",
    "    per = v / len(target_example) * 100\n",
    "    print('Class=%d, n=%d (%.3f%%)' % (k, v, per))\n",
    "# plot the distribution\n",
    "plt.bar(counter.keys(), counter.values())\n",
    "plt.show()"
   ]
  },
  {
   "cell_type": "markdown",
   "metadata": {},
   "source": [
    "# Model- multinomial logistic regression\n",
    "\n",
    "* The LogisticRegression class can be configured for multinomial logistic regression by setting the “multi_class” argument to “multinomial” and the “solver” argument to a solver that supports multinomial logistic regression, such as “lbfgs“.\n",
    "\n",
    "* It is a good practice to evaluate classification models using repeated stratified k-fold cross-validation. The stratification ensures that each cross-validation fold has approximately the same distribution of examples in each class as the whole training dataset.\n",
    "\n"
   ]
  },
  {
   "cell_type": "markdown",
   "metadata": {},
   "source": [
    "### Define X and y"
   ]
  },
  {
   "cell_type": "code",
   "execution_count": 10,
   "metadata": {},
   "outputs": [],
   "source": [
    "X = features\n",
    "\n",
    "y = target"
   ]
  },
  {
   "cell_type": "markdown",
   "metadata": {},
   "source": [
    "## Standardize"
   ]
  },
  {
   "cell_type": "code",
   "execution_count": 11,
   "metadata": {},
   "outputs": [],
   "source": [
    "y=np.array(y)"
   ]
  },
  {
   "cell_type": "code",
   "execution_count": 12,
   "metadata": {},
   "outputs": [
    {
     "name": "stdout",
     "output_type": "stream",
     "text": [
      ">0.0000 0.215 (0.058)\n",
      ">0.0001 0.200 (0.029)\n",
      ">0.0010 0.208 (0.038)\n",
      ">0.0100 0.201 (0.035)\n",
      ">0.1000 0.202 (0.044)\n",
      ">1.0000 0.195 (0.036)\n"
     ]
    }
   ],
   "source": [
    "# tune regularization for multinomial logistic regression\n",
    "# get a list of models to evaluate\n",
    "def get_models():\n",
    "    models = dict()\n",
    "    for p in [0.0, 0.0001, 0.001, 0.01, 0.1, 1.0]:\n",
    "        # create name for model\n",
    "        key = '%.4f' % p\n",
    "        # turn off penalty in some cases\n",
    "        if p == 0.0:\n",
    "            # no penalty in this case\n",
    "            models[key] = LogisticRegression(multi_class='multinomial', solver='lbfgs',class_weight='balanced', penalty='none')\n",
    "        else:\n",
    "            models[key] = LogisticRegression(multi_class='multinomial', solver='lbfgs',class_weight='balanced', penalty='l2',\n",
    "                                             C=p)\n",
    "    return models\n",
    " \n",
    "# evaluate model using cross-validation\n",
    "def evaluate_model(model, X, y):\n",
    "    # define the evaluation procedure\n",
    "    cv = RepeatedStratifiedKFold(n_splits=4, n_repeats=3, random_state=1)\n",
    "    # define pca\n",
    "    pca = PCA()\n",
    "    # create pipeline to scale data and apply pca\n",
    "    model = Pipeline(steps=[('over', SMOTE(k_neighbors=2)),('under',RandomUnderSampler()),(\"scaling\", StandardScaler()),\n",
    "                                               ('pca', pca),(\"model\", model)])\n",
    "    # evaluate the model\n",
    "    scores = cross_val_score(model, X, y, scoring='balanced_accuracy', cv=cv, n_jobs=-1)\n",
    "    return scores\n",
    " \n",
    "# get the models to evaluate\n",
    "models = get_models()\n",
    "# evaluate the models and store results\n",
    "results, names = list(), list()\n",
    "for name, model in models.items():\n",
    "    # evaluate the model and collect the scores\n",
    "    scores = evaluate_model(model, X, y)\n",
    "    # store the results\n",
    "    results.append(scores)\n",
    "    names.append(name)\n",
    "    # summarize progress along the way\n",
    "    print('>%s %.3f (%.3f)' % (name, mean(scores), std(scores)))"
   ]
  },
  {
   "cell_type": "code",
   "execution_count": 15,
   "metadata": {},
   "outputs": [
    {
     "data": {
      "image/png": "[encoded data removed]",
      "text/plain": [
       "<Figure size 432x288 with 1 Axes>"
      ]
     },
     "metadata": {
      "needs_background": "light"
     },
     "output_type": "display_data"
    }
   ],
   "source": [
    "\n",
    "# figure related code\n",
    "fig = plt.figure()\n",
    "fig.suptitle('Balanced accuracy for considered C values', fontsize=14, fontweight='bold')\n",
    "\n",
    "ax = fig.add_subplot(111)\n",
    "ax.boxplot(results, labels=names, showmeans=True)\n",
    "\n",
    "ax.set_xlabel('Considered \"C\" values')\n",
    "ax.set_ylabel('Balanced Accuracy')\n",
    "\n",
    "plt.show()"
   ]
  },
  {
   "cell_type": "markdown",
   "metadata": {},
   "source": [
    "### Best model\n",
    "\n",
    "Best model has C = 0.0001"
   ]
  },
  {
   "cell_type": "code",
   "execution_count": null,
   "metadata": {},
   "outputs": [],
   "source": [
    "# define the multinomial logistic regression model\n",
    "model = LogisticRegression(multi_class='multinomial', solver='lbfgs',C=0.0001,class_weight='balanced')\n",
    "# define pca\n",
    "pca = PCA()\n",
    "# create pipeline to scale data and apply pca\n",
    "model = Pipeline(steps=[('over', SMOTE(k_neighbors=2)),('under',RandomUnderSampler()),(\"scaling\", StandardScaler()),\n",
    "                                           ('pca', pca),(\"model\", model)])\n",
    "# split the data into test and training data\n",
    "X_train, X_test, y_train, y_test = train_test_split(X, y, test_size=0.3, random_state=24,stratify=y)"
   ]
  },
  {
   "cell_type": "markdown",
   "metadata": {},
   "source": [
    "#### Train balanced accuracy"
   ]
  },
  {
   "cell_type": "code",
   "execution_count": null,
   "metadata": {},
   "outputs": [],
   "source": [
    "# fit the model on the training dataset\n",
    "model.fit(X_train, y_train)\n",
    "# make a prediction\n",
    "y_pred = model.predict(X_train)\n",
    "\n",
    "balanced_accuracy_score(y_train, y_pred)"
   ]
  },
  {
   "cell_type": "markdown",
   "metadata": {},
   "source": [
    "#### Test balanced accuracy"
   ]
  },
  {
   "cell_type": "code",
   "execution_count": null,
   "metadata": {},
   "outputs": [],
   "source": [
    "# fit the model on the training dataset\n",
    "model.fit(X_train, y_train)\n",
    "# make a prediction\n",
    "y_pred = model.predict(X_test)\n",
    "\n",
    "balanced_accuracy_score(y_test, y_pred)"
   ]
  },
  {
   "cell_type": "code",
   "execution_count": null,
   "metadata": {},
   "outputs": [],
   "source": [
    "cm = ConfusionMatrix(actual_vector=y_test, predict_vector=y_pred)"
   ]
  },
  {
   "cell_type": "code",
   "execution_count": null,
   "metadata": {
    "scrolled": false
   },
   "outputs": [],
   "source": [
    "print(cm)"
   ]
  },
  {
   "cell_type": "markdown",
   "metadata": {},
   "source": [
    "# Model - neural network"
   ]
  },
  {
   "cell_type": "markdown",
   "metadata": {},
   "source": [
    "### Define X and y"
   ]
  },
  {
   "cell_type": "code",
   "execution_count": null,
   "metadata": {},
   "outputs": [],
   "source": [
    "X = features\n",
    "\n",
    "y = target"
   ]
  },
  {
   "cell_type": "markdown",
   "metadata": {},
   "source": [
    "## Transform"
   ]
  },
  {
   "cell_type": "code",
   "execution_count": null,
   "metadata": {},
   "outputs": [],
   "source": [
    "y=np.array(y)"
   ]
  },
  {
   "cell_type": "code",
   "execution_count": null,
   "metadata": {
    "scrolled": true
   },
   "outputs": [],
   "source": [
    "# define baseline model\n",
    "def baseline_model():\n",
    "    # create model\n",
    "    model = Sequential()\n",
    "    model.add(Dense(10, input_dim=X.shape[1], activation='relu'))\n",
    "    model.add(Dense(10, activation='relu'))\n",
    "    model.add(Dense(10, activation='relu'))\n",
    "    model.add(Dense(5, activation='softmax')) # Softmax for multi-class classification\n",
    "    # Compile model\n",
    "    model.compile(loss='sparse_categorical_crossentropy', optimizer='adam', metrics=['accuracy'])\n",
    "    return model\n",
    "\n",
    "# evaluate a given model using cross-validation\n",
    "def evaluate_model(model, X, y):\n",
    "    # define the evaluation procedure\n",
    "    cv = RepeatedStratifiedKFold(n_splits=4, n_repeats=3, random_state=1)\n",
    "    # define pca\n",
    "    pca = PCA()\n",
    "    # create pipeline to scale data and apply pca\n",
    "    model = Pipeline(steps=[('over', SMOTE(k_neighbors=2)),('under',RandomUnderSampler()),(\"scaling\", StandardScaler()),\n",
    "                                               ('pca', pca),(\"model\", model)])\n",
    "    # evaluate the model\n",
    "    scores = cross_val_score(model, X, y, cv=cv, scoring='balanced_accuracy')\n",
    "    return scores\n",
    "\n",
    "# hyperparameter tuning for neural network\n",
    "def get_models():\n",
    "    models = dict()\n",
    "    for batch_size in [10, 100]:\n",
    "        for epochs in [50, 100,200]:\n",
    "            # create name for model\n",
    "            key = 'batch_size',batch_size,'epochs',epochs\n",
    "            # models\n",
    "            models[key] = KerasClassifier(build_fn=baseline_model, epochs=epochs, batch_size=batch_size, verbose=0)\n",
    "    return models\n",
    "\n",
    "# get the models to evaluate\n",
    "models = get_models()\n",
    "# evaluate the models and store results\n",
    "results, names = list(), list()\n",
    "for name, model in models.items():\n",
    "    # evaluate the model and collect the scores\n",
    "    scores = evaluate_model(model, X, y)\n",
    "    # store the results\n",
    "    results.append(scores)\n",
    "    names.append(name)"
   ]
  },
  {
   "cell_type": "code",
   "execution_count": null,
   "metadata": {
    "scrolled": false
   },
   "outputs": [],
   "source": [
    "model_name = pd.DataFrame([str(x) for x in names], columns=['model_name'])\n",
    "accuracy = pd.DataFrame([mean(x) for x in results],columns=['accuracy'])\n",
    "std = pd.DataFrame([std(x) for x in results],columns=['std'])\n",
    "\n",
    "#store results\n",
    "results = pd.concat([model_name, accuracy,std], axis=1, join=\"inner\")\n",
    "# find best accuracy\n",
    "print(results.sort_values('accuracy',ascending=False).iloc[0,:])"
   ]
  },
  {
   "cell_type": "code",
   "execution_count": null,
   "metadata": {},
   "outputs": [],
   "source": [
    "# define the multinomial logistic regression model\n",
    "model = KerasClassifier(build_fn=baseline_model, epochs=200, batch_size=100, verbose=0)\n",
    "# define pca\n",
    "pca = PCA()\n",
    "# create pipeline to scale data and apply pca\n",
    "model = Pipeline(steps=[('over', SMOTE(k_neighbors=2)),('under',RandomUnderSampler()),(\"scaling\", StandardScaler()),\n",
    "                                           ('pca', pca),(\"model\", model)])\n",
    "# split the data into test and training data\n",
    "X_train, X_test, y_train, y_test = train_test_split(X, y, test_size=0.3, random_state=24,stratify=y)"
   ]
  },
  {
   "cell_type": "markdown",
   "metadata": {},
   "source": [
    "#### Train balanced accuracy"
   ]
  },
  {
   "cell_type": "code",
   "execution_count": null,
   "metadata": {},
   "outputs": [],
   "source": [
    "# fit the model on the training dataset\n",
    "model.fit(X_train, y_train)\n",
    "# make a prediction\n",
    "y_pred = model.predict(X_train)\n",
    "\n",
    "balanced_accuracy_score(y_train, y_pred)"
   ]
  },
  {
   "cell_type": "markdown",
   "metadata": {},
   "source": [
    "#### Test balanced accuracy"
   ]
  },
  {
   "cell_type": "code",
   "execution_count": null,
   "metadata": {},
   "outputs": [],
   "source": [
    "# fit the model on the training dataset\n",
    "model.fit(X_train, y_train)\n",
    "# make a prediction\n",
    "y_pred = model.predict(X_test)\n",
    "\n",
    "balanced_accuracy_score(y_test, y_pred)"
   ]
  },
  {
   "cell_type": "code",
   "execution_count": null,
   "metadata": {},
   "outputs": [],
   "source": [
    "cm = ConfusionMatrix(actual_vector=y_test, predict_vector=y_pred)"
   ]
  },
  {
   "cell_type": "code",
   "execution_count": null,
   "metadata": {
    "scrolled": false
   },
   "outputs": [],
   "source": [
    "print(cm)"
   ]
  }
 ],
 "metadata": {
  "kernelspec": {
   "display_name": "Python 3",
   "language": "python",
   "name": "python3"
  },
  "language_info": {
   "codemirror_mode": {
    "name": "ipython",
    "version": 3
   },
   "file_extension": ".py",
   "mimetype": "text/x-python",
   "name": "python",
   "nbconvert_exporter": "python",
   "pygments_lexer": "ipython3",
   "version": "3.8.3"
  }
 },
 "nbformat": 4,
 "nbformat_minor": 4
}
