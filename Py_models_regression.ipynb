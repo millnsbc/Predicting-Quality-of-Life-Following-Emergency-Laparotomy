{
 "cells": [
  {
   "cell_type": "code",
   "execution_count": 1,
   "metadata": {},
   "outputs": [],
   "source": [
    "import os\n",
    "import pandas as pd\n",
    "import numpy as np\n",
    "import matplotlib.pyplot as plt\n",
    "from sklearn.model_selection import KFold, StratifiedKFold, cross_val_score\n",
    "from sklearn import linear_model\n",
    "from sklearn.tree import DecisionTreeRegressor\n",
    "from sklearn.ensemble import RandomForestRegressor\n",
    "from sklearn.pipeline import Pipeline\n",
    "from sklearn.preprocessing import StandardScaler\n",
    "from sklearn.linear_model import SGDRegressor\n",
    "from sklearn.decomposition import PCA\n",
    "from sklearn.model_selection import train_test_split\n"
   ]
  },
  {
   "cell_type": "code",
   "execution_count": 2,
   "metadata": {},
   "outputs": [],
   "source": [
    "os.chdir(r'C:\\Users\\c2098580\\OneDrive - Cardiff University\\Documents\\MSc Data Science and Analytics/Dissertation/clean_data')\n",
    "# read data\n",
    "vas_df = pd.read_csv('vas_df.csv')"
   ]
  },
  {
   "cell_type": "markdown",
   "metadata": {},
   "source": [
    "# Data preprocessing"
   ]
  },
  {
   "cell_type": "code",
   "execution_count": 3,
   "metadata": {},
   "outputs": [
    {
     "name": "stdout",
     "output_type": "stream",
     "text": [
      "256    1\n",
      "255    1\n",
      "94     1\n",
      "93     1\n",
      "92     1\n",
      "      ..\n",
      "166    1\n",
      "165    1\n",
      "164    1\n",
      "163    1\n",
      "1      1\n",
      "Name: Unnamed: 0, Length: 256, dtype: int64\n",
      "1    217\n",
      "4     37\n",
      "8      2\n",
      "Name: Number.of.Procedures, dtype: int64\n",
      "1.5     9\n",
      "2.7     9\n",
      "1.3     8\n",
      "3.3     8\n",
      "4.1     7\n",
      "       ..\n",
      "34.6    1\n",
      "9.4     1\n",
      "18.9    1\n",
      "84.4    1\n",
      "12.5    1\n",
      "Name: Pre.op.PPOSSUM.mortality, Length: 141, dtype: int64\n",
      "0       9\n",
      "350     4\n",
      "1361    4\n",
      "1735    4\n",
      "1486    3\n",
      "       ..\n",
      "1430    1\n",
      "919     1\n",
      "150     1\n",
      "1703    1\n",
      "1164    1\n",
      "Name: WIMD.2019.Rank, Length: 178, dtype: int64\n",
      "97     11\n",
      "89     10\n",
      "106     9\n",
      "120     9\n",
      "118     8\n",
      "       ..\n",
      "128     1\n",
      "125     1\n",
      "124     1\n",
      "160     1\n",
      "166     1\n",
      "Name: Hb.closest.to.discharge.death, Length: 70, dtype: int64\n",
      "2    113\n",
      "3     89\n",
      "4     28\n",
      "1     25\n",
      "5      1\n",
      "Name: ASA.score, dtype: int64\n",
      "2    119\n",
      "3     53\n",
      "4     47\n",
      "1     37\n",
      "Name: Pre.Op.risk.category.1, dtype: int64\n",
      "60     27\n",
      "75     25\n",
      "90     25\n",
      "70     25\n",
      "80     22\n",
      "50     19\n",
      "85     15\n",
      "40     14\n",
      "95     11\n",
      "45     10\n",
      "35      9\n",
      "65      9\n",
      "100     9\n",
      "30      6\n",
      "55      6\n",
      "20      5\n",
      "10      4\n",
      "25      3\n",
      "15      2\n",
      "68      2\n",
      "99      2\n",
      "71      1\n",
      "74      1\n",
      "87      1\n",
      "97      1\n",
      "98      1\n",
      "5       1\n",
      "Name: VAS, dtype: int64\n",
      "0    220\n",
      "1     36\n",
      "Name: Chronic.Pain.issues_1, dtype: int64\n",
      "0    150\n",
      "1    106\n",
      "Name: Gender_M, dtype: int64\n",
      "1    177\n",
      "0     79\n",
      "Name: Perforation_2, dtype: int64\n",
      "1    245\n",
      "0     11\n",
      "Name: Anastomotic.Leak_2, dtype: int64\n",
      "0    225\n",
      "1     31\n",
      "Name: Malignancy.status_2, dtype: int64\n",
      "0    249\n",
      "1      7\n",
      "Name: Malignancy.status_4, dtype: int64\n",
      "0    244\n",
      "1     12\n",
      "Name: Malignancy.status_8, dtype: int64\n",
      "0    137\n",
      "1    119\n",
      "Name: Pre.Op.risk.category_2, dtype: int64\n",
      "0    203\n",
      "1     53\n",
      "Name: Pre.Op.risk.category_3, dtype: int64\n",
      "0    209\n",
      "1     47\n",
      "Name: Pre.Op.risk.category_4, dtype: int64\n",
      "0    253\n",
      "1      3\n",
      "Name: Surgeon.grade_2, dtype: int64\n",
      "0    255\n",
      "1      1\n",
      "Name: Surgeon.grade_3, dtype: int64\n",
      "0    254\n",
      "1      2\n",
      "Name: Surgeon.grade_4, dtype: int64\n",
      "0    219\n",
      "1     37\n",
      "Name: Surgeon.grade_5, dtype: int64\n",
      "0    255\n",
      "1      1\n",
      "Name: Main.procedure_2, dtype: int64\n",
      "0    254\n",
      "1      2\n",
      "Name: Main.procedure_20, dtype: int64\n",
      "0    189\n",
      "1     67\n",
      "Name: Main.procedure_22, dtype: int64\n",
      "0    244\n",
      "1     12\n",
      "Name: Main.procedure_23, dtype: int64\n",
      "0    251\n",
      "1      5\n",
      "Name: Main.procedure_23a, dtype: int64\n",
      "0    255\n",
      "1      1\n",
      "Name: Main.procedure_24, dtype: int64\n",
      "0    255\n",
      "1      1\n",
      "Name: Main.procedure_25, dtype: int64\n",
      "0    254\n",
      "1      2\n",
      "Name: Main.procedure_28, dtype: int64\n",
      "0    254\n",
      "1      2\n",
      "Name: Main.procedure_28a, dtype: int64\n",
      "0    254\n",
      "1      2\n",
      "Name: Main.procedure_3, dtype: int64\n",
      "0    245\n",
      "1     11\n",
      "Name: Main.procedure_30, dtype: int64\n",
      "0    254\n",
      "1      2\n",
      "Name: Main.procedure_32, dtype: int64\n",
      "0    253\n",
      "1      3\n",
      "Name: Main.procedure_33, dtype: int64\n",
      "0    254\n",
      "1      2\n",
      "Name: Main.procedure_37, dtype: int64\n",
      "0    253\n",
      "1      3\n",
      "Name: Main.procedure_38, dtype: int64\n",
      "0    235\n",
      "1     21\n",
      "Name: Main.procedure_4, dtype: int64\n",
      "0    255\n",
      "1      1\n",
      "Name: Main.procedure_4a, dtype: int64\n",
      "0    255\n",
      "1      1\n",
      "Name: Main.procedure_4c, dtype: int64\n",
      "0    252\n",
      "1      4\n",
      "Name: Main.procedure_5, dtype: int64\n",
      "0    218\n",
      "1     38\n",
      "Name: Main.procedure_6, dtype: int64\n",
      "0    244\n",
      "1     12\n",
      "Name: Main.procedure_7, dtype: int64\n",
      "0    209\n",
      "1     47\n",
      "Name: Main.procedure_8, dtype: int64\n",
      "0    255\n",
      "1      1\n",
      "Name: Main.procedure_88, dtype: int64\n",
      "0    250\n",
      "1      6\n",
      "Name: Main.procedure_9, dtype: int64\n",
      "0    255\n",
      "1      1\n",
      "Name: Procedure.2_20, dtype: int64\n",
      "0    254\n",
      "1      2\n",
      "Name: Procedure.2_20a, dtype: int64\n",
      "0    252\n",
      "1      4\n",
      "Name: Procedure.2_21, dtype: int64\n",
      "0    249\n",
      "1      7\n",
      "Name: Procedure.2_22, dtype: int64\n",
      "0    251\n",
      "1      5\n",
      "Name: Procedure.2_23, dtype: int64\n",
      "0    254\n",
      "1      2\n",
      "Name: Procedure.2_27, dtype: int64\n",
      "0    254\n",
      "1      2\n",
      "Name: Procedure.2_28, dtype: int64\n",
      "0    253\n",
      "1      3\n",
      "Name: Procedure.2_28b, dtype: int64\n",
      "0    230\n",
      "1     26\n",
      "Name: Procedure.2_30, dtype: int64\n",
      "0    253\n",
      "1      3\n",
      "Name: Procedure.2_31, dtype: int64\n",
      "0    254\n",
      "1      2\n",
      "Name: Procedure.2_32, dtype: int64\n",
      "0    255\n",
      "1      1\n",
      "Name: Procedure.2_33, dtype: int64\n",
      "0    253\n",
      "1      3\n",
      "Name: Procedure.2_34, dtype: int64\n",
      "0    252\n",
      "1      4\n",
      "Name: Procedure.2_4, dtype: int64\n",
      "0    255\n",
      "1      1\n",
      "Name: Procedure.2_4a, dtype: int64\n",
      "0    255\n",
      "1      1\n",
      "Name: Procedure.2_5, dtype: int64\n",
      "0    255\n",
      "1      1\n",
      "Name: Procedure.2_6, dtype: int64\n",
      "0    254\n",
      "1      2\n",
      "Name: Procedure.2_8, dtype: int64\n",
      "0    227\n",
      "1     29\n",
      "Name: Approach_2, dtype: int64\n",
      "0    228\n",
      "1     28\n",
      "Name: Approach_3, dtype: int64\n",
      "0    250\n",
      "1      6\n",
      "Name: Approach_4, dtype: int64\n",
      "1    246\n",
      "0     10\n",
      "Name: Anastomotic.Leak..F._2, dtype: int64\n",
      "1    246\n",
      "0     10\n",
      "Name: Crohns.Disease..F._2, dtype: int64\n",
      "1    245\n",
      "0     11\n",
      "Name: Free.Gas.._2, dtype: int64\n",
      "1    196\n",
      "0     60\n",
      "Name: Pus.._2, dtype: int64\n",
      "0    242\n",
      "1     14\n",
      "Name: Post.op.destination_2, dtype: int64\n",
      "0    251\n",
      "1      5\n",
      "Name: Post.op.destination_3, dtype: int64\n",
      "0    252\n",
      "1      4\n",
      "Name: Post.op.destination_5, dtype: int64\n",
      "0    197\n",
      "1     59\n",
      "Name: Post.op.destination_6, dtype: int64\n",
      "0    239\n",
      "1     17\n",
      "Name: RTT_1, dtype: int64\n",
      "0    253\n",
      "1      3\n",
      "Name: RTT_2, dtype: int64\n",
      "0    255\n",
      "1      1\n",
      "Name: RTT_3, dtype: int64\n",
      "0    164\n",
      "1     92\n",
      "Name: PMH_of_mental_health_binary_1, dtype: int64\n"
     ]
    }
   ],
   "source": [
    "for i in vas_df.columns:\n",
    "    print(vas_df[i].value_counts())\n"
   ]
  },
  {
   "cell_type": "code",
   "execution_count": 4,
   "metadata": {},
   "outputs": [],
   "source": [
    "# drop Unnamed column\n",
    "vas_df = vas_df.drop('Unnamed: 0',axis=1)"
   ]
  },
  {
   "cell_type": "code",
   "execution_count": 5,
   "metadata": {},
   "outputs": [],
   "source": [
    "#remove NANs\n",
    "vas_df = vas_df.dropna(axis=0) "
   ]
  },
  {
   "cell_type": "code",
   "execution_count": 6,
   "metadata": {},
   "outputs": [
    {
     "name": "stdout",
     "output_type": "stream",
     "text": [
      "Shape of X data: (256, 77)\n",
      "Shape of y data: (256,)\n"
     ]
    }
   ],
   "source": [
    "# create arrays for the features and the target variable \n",
    "y = vas_df['VAS']\n",
    "\n",
    "# selected features \n",
    "X = vas_df.drop('VAS',axis=1)\n",
    "\n",
    "print('Shape of X data:',X.shape)\n",
    "print('Shape of y data:',y.shape)"
   ]
  },
  {
   "cell_type": "markdown",
   "metadata": {},
   "source": [
    "# Model"
   ]
  },
  {
   "cell_type": "code",
   "execution_count": 7,
   "metadata": {},
   "outputs": [
    {
     "name": "stdout",
     "output_type": "stream",
     "text": [
      "Fold:1, Train set: 204, Test set:52\n",
      "Fold:2, Train set: 205, Test set:51\n",
      "Fold:3, Train set: 205, Test set:51\n",
      "Fold:4, Train set: 205, Test set:51\n",
      "Fold:5, Train set: 205, Test set:51\n"
     ]
    }
   ],
   "source": [
    "kf =KFold(n_splits=5, shuffle=True, random_state=42)\n",
    "\n",
    "cnt = 1\n",
    "# split()  method generate indices to split data into training and test set.\n",
    "for train_index, test_index in kf.split(X, y):\n",
    "    print(f'Fold:{cnt}, Train set: {len(train_index)}, Test set:{len(test_index)}')\n",
    "    cnt += 1"
   ]
  },
  {
   "cell_type": "code",
   "execution_count": 8,
   "metadata": {},
   "outputs": [],
   "source": [
    "def rmse(score):\n",
    "    rmse = np.sqrt(abs(score))\n",
    "    return rmse"
   ]
  },
  {
   "cell_type": "markdown",
   "metadata": {},
   "source": [
    "## Linear regression"
   ]
  },
  {
   "cell_type": "code",
   "execution_count": 9,
   "metadata": {},
   "outputs": [
    {
     "name": "stdout",
     "output_type": "stream",
     "text": [
      "For max iterations: 500\n",
      "rmse= 25.20\n",
      "For max iterations: 1000\n",
      "rmse= 25.15\n",
      "For max iterations: 3000\n",
      "rmse= 25.10\n",
      "For max iterations: 5000\n",
      "rmse= 24.96\n"
     ]
    }
   ],
   "source": [
    "max_iter = [500,1000,3000,5000]\n",
    "results,names,stad = [],[],[]\n",
    "for passes in max_iter:\n",
    "    # create pipeline to scale data \n",
    "    model = SGDRegressor(max_iter=passes, tol=1e-3)\n",
    "    pca =  PCA()\n",
    "    model = Pipeline(steps=[(\"scaling\", StandardScaler()),('pca', pca),(\"model\", model)])\n",
    "    score = cross_val_score(model, X, y, cv= kf, scoring=\"neg_mean_squared_error\")\n",
    "    print(f'For max iterations: {passes}')\n",
    "    print(f'rmse= {\"{:.2f}\".format(rmse(score.mean()))}')\n",
    "    results.append(rmse(score.mean()))\n",
    "    stad.append(rmse(score.std()))\n",
    "    names.append(passes)"
   ]
  },
  {
   "cell_type": "code",
   "execution_count": 10,
   "metadata": {},
   "outputs": [
    {
     "name": "stdout",
     "output_type": "stream",
     "text": [
      "max_iterations       5000\n",
      "RMSE              24.9637\n",
      "std               10.2492\n",
      "Name: 3, dtype: object\n"
     ]
    }
   ],
   "source": [
    "model_name = pd.DataFrame([str(x) for x in names], columns=['max_iterations'])\n",
    "RMSE = pd.DataFrame(results,columns=['RMSE'])\n",
    "sd = pd.DataFrame(stad,columns=['std'])\n",
    "\n",
    "#store results\n",
    "results = pd.concat([model_name, RMSE,sd], axis=1, join=\"inner\")\n",
    "# find best accuracy\n",
    "print(results.sort_values('RMSE',ascending=True).iloc[0,:])"
   ]
  },
  {
   "cell_type": "markdown",
   "metadata": {},
   "source": [
    "## Decision tree"
   ]
  },
  {
   "cell_type": "code",
   "execution_count": 11,
   "metadata": {},
   "outputs": [
    {
     "name": "stdout",
     "output_type": "stream",
     "text": [
      "For max depth: 1\n",
      "rmse= 22.32\n",
      "For max depth: 2\n",
      "rmse= 22.43\n",
      "For max depth: 3\n",
      "rmse= 24.24\n",
      "For max depth: 4\n",
      "rmse= 25.42\n",
      "For max depth: 5\n",
      "rmse= 28.04\n",
      "For max depth: 6\n",
      "rmse= 29.92\n",
      "For max depth: 7\n",
      "rmse= 30.55\n",
      "For max depth: 8\n",
      "rmse= 31.45\n",
      "For max depth: 9\n",
      "rmse= 32.09\n",
      "For max depth: 10\n",
      "rmse= 31.98\n"
     ]
    }
   ],
   "source": [
    "max_depth = [1,2,3,4,5,6,7,8,9,10]\n",
    "results,names,stad = [],[],[]\n",
    "for val in max_depth:\n",
    "    # create pipeline to scale data \n",
    "    model = DecisionTreeRegressor(max_depth= val, random_state= 37)\n",
    "    pca =  PCA()\n",
    "    model = Pipeline(steps=[(\"scaling\", StandardScaler()),('pca', pca),(\"model\", model)])\n",
    "    score = cross_val_score(model, X, y, cv= kf, scoring=\"neg_mean_squared_error\")\n",
    "    print(f'For max depth: {val}')\n",
    "    print(f'rmse= {\"{:.2f}\".format(rmse(score.mean()))}')\n",
    "    results.append(rmse(score.mean()))\n",
    "    stad.append(rmse(score.std()))\n",
    "    names.append(val)"
   ]
  },
  {
   "cell_type": "code",
   "execution_count": 12,
   "metadata": {},
   "outputs": [
    {
     "name": "stdout",
     "output_type": "stream",
     "text": [
      "max_depth          1\n",
      "RMSE         22.3238\n",
      "std          10.7681\n",
      "Name: 0, dtype: object\n"
     ]
    }
   ],
   "source": [
    "model_name = pd.DataFrame([str(x) for x in names], columns=['max_depth'])\n",
    "RMSE = pd.DataFrame(results,columns=['RMSE'])\n",
    "sd = pd.DataFrame(stad,columns=['std'])\n",
    "\n",
    "#store results\n",
    "results = pd.concat([model_name, RMSE,sd], axis=1, join=\"inner\")\n",
    "# find best accuracy\n",
    "print(results.sort_values('RMSE',ascending=True).iloc[0,:])"
   ]
  },
  {
   "cell_type": "markdown",
   "metadata": {},
   "source": [
    "## Random forest"
   ]
  },
  {
   "cell_type": "code",
   "execution_count": 13,
   "metadata": {},
   "outputs": [
    {
     "name": "stdout",
     "output_type": "stream",
     "text": [
      "For estimators: 100\n",
      "rmse= 21.82\n",
      "For estimators: 250\n",
      "rmse= 21.74\n",
      "For estimators: 400\n",
      "rmse= 21.73\n",
      "For estimators: 500\n",
      "rmse= 21.70\n",
      "For estimators: 1000\n",
      "rmse= 21.66\n",
      "For estimators: 2000\n",
      "rmse= 21.64\n"
     ]
    }
   ],
   "source": [
    "estimators = [100, 250, 400, 500,1000,2000]\n",
    "results,names, stad = [],[],[]\n",
    "\n",
    "for count in estimators:\n",
    "    # create pipeline to scale data \n",
    "    model = RandomForestRegressor(n_estimators= count, random_state= 6)\n",
    "    pca =  PCA()\n",
    "    model = Pipeline(steps=[(\"scaling\", StandardScaler()),('pca', pca),(\"model\", model)])\n",
    "    score = cross_val_score(model, X, y, cv= kf, scoring=\"neg_mean_squared_error\")\n",
    "    print(f'For estimators: {count}')\n",
    "    print(f'rmse= {\"{:.2f}\".format(rmse(score.mean()))}')\n",
    "    results.append(rmse(score.mean()))\n",
    "    stad.append(rmse(score.std()))\n",
    "    names.append(count)"
   ]
  },
  {
   "cell_type": "code",
   "execution_count": 14,
   "metadata": {},
   "outputs": [
    {
     "name": "stdout",
     "output_type": "stream",
     "text": [
      "estimators       2000\n",
      "RMSE          21.6421\n",
      "std           9.89483\n",
      "Name: 5, dtype: object\n"
     ]
    }
   ],
   "source": [
    "model_name = pd.DataFrame([str(x) for x in names], columns=['estimators'])\n",
    "RMSE = pd.DataFrame(results,columns=['RMSE'])\n",
    "sd = pd.DataFrame(stad,columns=['std'])\n",
    "\n",
    "#store results\n",
    "results = pd.concat([model_name, RMSE,sd], axis=1, join=\"inner\")\n",
    "# find best accuracy\n",
    "print(results.sort_values('RMSE',ascending=True).iloc[0,:])"
   ]
  },
  {
   "cell_type": "markdown",
   "metadata": {},
   "source": [
    "# Result (best model)\n",
    "\n",
    "Random forest with estimators = 1000"
   ]
  },
  {
   "cell_type": "code",
   "execution_count": 17,
   "metadata": {},
   "outputs": [
    {
     "data": {
      "image/png": "[encoded data removed]",
      "text/plain": [
       "<Figure size 576x396 with 2 Axes>"
      ]
     },
     "metadata": {},
     "output_type": "display_data"
    }
   ],
   "source": [
    "from yellowbrick.datasets import load_concrete\n",
    "from yellowbrick.regressor import residuals_plot\n",
    "\n",
    "\n",
    "X_train, X_test, y_train, y_test = train_test_split(X, y, test_size=0.2, shuffle=True)\n",
    "pca =  PCA()\n",
    "model = RandomForestRegressor(n_estimators= 2000, random_state= 2)\n",
    "model = Pipeline(steps=[(\"scaling\", StandardScaler()),('pca', pca),(\"model\", model)])\n",
    "\n",
    "# Create the visualizer, fit, score, and show it\n",
    "viz = residuals_plot(model, X_train, y_train, X_test, y_test)"
   ]
  },
  {
   "cell_type": "code",
   "execution_count": 18,
   "metadata": {},
   "outputs": [
    {
     "name": "stdout",
     "output_type": "stream",
     "text": [
      "Mean Absolute Error (MAE): 18.253625\n",
      "Mean Squared Error (MSE): 550.8702929951924\n",
      "Root Mean Squared Error (RMSE): 23.470626173904954\n",
      "Mean Absolute Perc. Error (MAPE): 68.9813107908767\n",
      "\n",
      "\n"
     ]
    }
   ],
   "source": [
    "from sklearn.metrics import mean_squared_error\n",
    "from pmdarima.metrics import smape\n",
    "from keras import metrics\n",
    "from sklearn.metrics import mean_squared_error, mean_absolute_error\n",
    "from statsmodels.tools.eval_measures import mse, rmse \n",
    "\n",
    "model.fit(X_train,y_train)\n",
    "y_predict = model.predict(X_test)\n",
    "\n",
    "# evaluate \n",
    "print(\"Mean Absolute Error (MAE): {}\".format(mean_absolute_error(y_test, y_predict)))\n",
    "print(\"Mean Squared Error (MSE): {}\".format(mse(y_test, y_predict)))\n",
    "print(\"Root Mean Squared Error (RMSE): {}\".format(rmse(y_test, y_predict)))\n",
    "print(\"Mean Absolute Perc. Error (MAPE): {}\".format(np.mean(np.abs((y_test - y_predict) / y_test)) * 100))\n",
    "print('\\n')\n"
   ]
  }
 ],
 "metadata": {
  "kernelspec": {
   "display_name": "Python 3",
   "language": "python",
   "name": "python3"
  },
  "language_info": {
   "codemirror_mode": {
    "name": "ipython",
    "version": 3
   },
   "file_extension": ".py",
   "mimetype": "text/x-python",
   "name": "python",
   "nbconvert_exporter": "python",
   "pygments_lexer": "ipython3",
   "version": "3.8.3"
  }
 },
 "nbformat": 4,
 "nbformat_minor": 4
}
